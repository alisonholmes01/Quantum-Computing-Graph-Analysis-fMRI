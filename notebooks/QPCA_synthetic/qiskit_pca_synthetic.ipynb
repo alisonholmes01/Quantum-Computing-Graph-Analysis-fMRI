{
 "cells": [
  {
   "cell_type": "code",
   "execution_count": 2,
   "metadata": {},
   "outputs": [],
   "source": [
    "#FOLLOWING THE CODE from IBM Qiskit Machine Learning Tutorial here: https://qiskit-community.github.io/qiskit-machine-learning/tutorials/03_quantum_kernel.html#4.-Kernel-Principal-Component-Analysis \n",
    "#Run requirements. \n",
    "#Import libraries \n",
    "from qiskit_machine_learning.utils import algorithm_globals\n",
    "from qiskit.circuit.library import ZZFeatureMap\n",
    "from qiskit.primitives import StatevectorSampler as Sampler\n",
    "from qiskit_machine_learning.state_fidelities import ComputeUncompute\n",
    "from qiskit_machine_learning.kernels import FidelityQuantumKernel\n",
    "\n",
    "#set random seed\n",
    "algorithm_globals.random_seed = 12345\n",
    "\n",
    "#Import the ad_hoc data this data is referenced and used for SVM here : https://arxiv.org/pdf/1804.11326\n",
    "from qiskit_machine_learning.datasets import ad_hoc_data"
   ]
  },
  {
   "cell_type": "code",
   "execution_count": 12,
   "metadata": {},
   "outputs": [],
   "source": [
    "#they defined their own functions \n",
    "import matplotlib.pyplot as plt\n",
    "import numpy as np\n",
    "\n",
    "\n",
    "def plot_features(ax, features, labels, class_label, marker, face, edge, label):\n",
    "    # A train plot\n",
    "    ax.scatter(\n",
    "        # x coordinate of labels where class is class_label\n",
    "        features[np.where(labels[:] == class_label), 0],\n",
    "        # y coordinate of labels where class is class_label\n",
    "        features[np.where(labels[:] == class_label), 1],\n",
    "        marker=marker,\n",
    "        facecolors=face,\n",
    "        edgecolors=edge,\n",
    "        label=label,\n",
    "    )\n",
    "\n",
    "\n",
    "def plot_dataset(train_features, train_labels, test_features, test_labels, adhoc_total):\n",
    "\n",
    "    plt.figure(figsize=(5, 5))\n",
    "    plt.ylim(0, 2 * np.pi)\n",
    "    plt.xlim(0, 2 * np.pi)\n",
    "    plt.imshow(\n",
    "        np.asmatrix(adhoc_total).T,\n",
    "        interpolation=\"nearest\",\n",
    "        origin=\"lower\",\n",
    "        cmap=\"RdBu\",\n",
    "        extent=[0, 2 * np.pi, 0, 2 * np.pi],\n",
    "    )\n",
    "\n",
    "    # A train plot\n",
    "    plot_features(plt, train_features, train_labels, 0, \"s\", \"w\", \"b\", \"A train\")\n",
    "\n",
    "    # B train plot\n",
    "    plot_features(plt, train_features, train_labels, 1, \"o\", \"w\", \"r\", \"B train\")\n",
    "\n",
    "    # A test plot\n",
    "    plot_features(plt, test_features, test_labels, 0, \"s\", \"b\", \"w\", \"A test\")\n",
    "\n",
    "    # B test plot\n",
    "    plot_features(plt, test_features, test_labels, 1, \"o\", \"r\", \"w\", \"B test\")\n",
    "\n",
    "    plt.legend(bbox_to_anchor=(1.05, 1), loc=\"upper left\", borderaxespad=0.0)\n",
    "    plt.title(\"Ad hoc dataset\")\n",
    "\n",
    "    plt.show()\n"
   ]
  },
  {
   "cell_type": "code",
   "execution_count": 13,
   "metadata": {},
   "outputs": [],
   "source": [
    "#Defining the dataset: SPLITTING THE DATA BY train and test subsets. \n",
    "\n",
    "adhoc_dimension = 2\n",
    "train_features, train_labels, test_features, test_labels, adhoc_total = ad_hoc_data(\n",
    "    training_size=25,\n",
    "    test_size=10, #\n",
    "    n=adhoc_dimension,\n",
    "    gap=0.6,\n",
    "    plot_data=False,\n",
    "    one_hot=False,\n",
    "    include_sample_total=True,\n",
    ")"
   ]
  },
  {
   "cell_type": "code",
   "execution_count": 14,
   "metadata": {},
   "outputs": [
    {
     "data": {
      "image/png": "[encoded data removed]",
      "text/plain": [
       "<Figure size 500x500 with 1 Axes>"
      ]
     },
     "metadata": {},
     "output_type": "display_data"
    }
   ],
   "source": [
    "#plot data set\n",
    "plot_dataset(train_features, train_labels, test_features, test_labels, adhoc_total)"
   ]
  },
  {
   "cell_type": "code",
   "execution_count": 3,
   "metadata": {},
   "outputs": [
    {
     "ename": "NameError",
     "evalue": "name 'adhoc_dimension' is not defined",
     "output_type": "error",
     "traceback": [
      "\u001b[0;31m---------------------------------------------------------------------------\u001b[0m",
      "\u001b[0;31mNameError\u001b[0m                                 Traceback (most recent call last)",
      "Cell \u001b[0;32mIn[3], line 1\u001b[0m\n\u001b[0;32m----> 1\u001b[0m adhoc_feature_map \u001b[38;5;241m=\u001b[39m ZZFeatureMap(feature_dimension\u001b[38;5;241m=\u001b[39m\u001b[43madhoc_dimension\u001b[49m, reps\u001b[38;5;241m=\u001b[39m\u001b[38;5;241m2\u001b[39m, entanglement\u001b[38;5;241m=\u001b[39m\u001b[38;5;124m\"\u001b[39m\u001b[38;5;124mlinear\u001b[39m\u001b[38;5;124m\"\u001b[39m)\n\u001b[1;32m      3\u001b[0m adhoc_kernel \u001b[38;5;241m=\u001b[39m FidelityQuantumKernel(fidelity\u001b[38;5;241m=\u001b[39mfidelity, feature_map\u001b[38;5;241m=\u001b[39madhoc_feature_map)\n",
      "\u001b[0;31mNameError\u001b[0m: name 'adhoc_dimension' is not defined"
     ]
    }
   ],
   "source": [
    "adhoc_feature_map = ZZFeatureMap(feature_dimension=adhoc_dimension, reps=2, entanglement=\"linear\")\n",
    "\n",
    "adhoc_kernel = FidelityQuantumKernel(fidelity=fidelity, feature_map=adhoc_feature_map)"
   ]
  },
  {
   "cell_type": "code",
   "execution_count": null,
   "metadata": {},
   "outputs": [],
   "source": []
  },
  {
   "cell_type": "code",
   "execution_count": null,
   "metadata": {},
   "outputs": [],
   "source": []
  },
  {
   "cell_type": "code",
   "execution_count": 4,
   "metadata": {},
   "outputs": [
    {
     "ename": "NameError",
     "evalue": "name 'fidelity' is not defined",
     "output_type": "error",
     "traceback": [
      "\u001b[0;31m---------------------------------------------------------------------------\u001b[0m",
      "\u001b[0;31mNameError\u001b[0m                                 Traceback (most recent call last)",
      "Cell \u001b[0;32mIn[4], line 5\u001b[0m\n\u001b[1;32m      1\u001b[0m \u001b[38;5;66;03m#Define the quantum kernel \u001b[39;00m\n\u001b[1;32m      2\u001b[0m \u001b[38;5;66;03m#namely a ZZFeatureMap circuit as a feature map and an instance of FidelityQuantumKernel\u001b[39;00m\n\u001b[1;32m      4\u001b[0m feature_map \u001b[38;5;241m=\u001b[39m ZZFeatureMap(feature_dimension\u001b[38;5;241m=\u001b[39m\u001b[38;5;241m2\u001b[39m, reps\u001b[38;5;241m=\u001b[39m\u001b[38;5;241m2\u001b[39m, entanglement\u001b[38;5;241m=\u001b[39m\u001b[38;5;124m\"\u001b[39m\u001b[38;5;124mlinear\u001b[39m\u001b[38;5;124m\"\u001b[39m)\n\u001b[0;32m----> 5\u001b[0m qpca_kernel \u001b[38;5;241m=\u001b[39m FidelityQuantumKernel(fidelity\u001b[38;5;241m=\u001b[39m\u001b[43mfidelity\u001b[49m, feature_map\u001b[38;5;241m=\u001b[39mfeature_map)\n",
      "\u001b[0;31mNameError\u001b[0m: name 'fidelity' is not defined"
     ]
    }
   ],
   "source": [
    "#Define the quantum kernel \n",
    "#namely a ZZFeatureMap circuit as a feature map and an instance of FidelityQuantumKernel\n",
    "\n",
    "feature_map = ZZFeatureMap(feature_dimension=2, reps=2, entanglement=\"linear\")\n",
    "qpca_kernel = FidelityQuantumKernel(fidelity=fidelity, feature_map=feature_map)"
   ]
  },
  {
   "cell_type": "code",
   "execution_count": null,
   "metadata": {},
   "outputs": [],
   "source": []
  },
  {
   "cell_type": "code",
   "execution_count": null,
   "metadata": {},
   "outputs": [],
   "source": []
  },
  {
   "cell_type": "code",
   "execution_count": 5,
   "metadata": {},
   "outputs": [
    {
     "ename": "NameError",
     "evalue": "name 'qpca_kernel' is not defined",
     "output_type": "error",
     "traceback": [
      "\u001b[0;31m---------------------------------------------------------------------------\u001b[0m",
      "\u001b[0;31mNameError\u001b[0m                                 Traceback (most recent call last)",
      "Cell \u001b[0;32mIn[5], line 3\u001b[0m\n\u001b[1;32m      1\u001b[0m \u001b[38;5;66;03m#evaluate kernel matrices for the training and test features.\u001b[39;00m\n\u001b[0;32m----> 3\u001b[0m matrix_train \u001b[38;5;241m=\u001b[39m \u001b[43mqpca_kernel\u001b[49m\u001b[38;5;241m.\u001b[39mevaluate(x_vec\u001b[38;5;241m=\u001b[39mtrain_features)\n\u001b[1;32m      4\u001b[0m matrix_test \u001b[38;5;241m=\u001b[39m qpca_kernel\u001b[38;5;241m.\u001b[39mevaluate(x_vec\u001b[38;5;241m=\u001b[39mtest_features, y_vec\u001b[38;5;241m=\u001b[39mtrain_features)\n",
      "\u001b[0;31mNameError\u001b[0m: name 'qpca_kernel' is not defined"
     ]
    }
   ],
   "source": [
    "#evaluate kernel matrices for the training and test features.\n",
    "\n",
    "matrix_train = qpca_kernel.evaluate(x_vec=train_features)\n",
    "matrix_test = qpca_kernel.evaluate(x_vec=test_features, y_vec=train_features)"
   ]
  },
  {
   "cell_type": "code",
   "execution_count": null,
   "metadata": {},
   "outputs": [],
   "source": []
  },
  {
   "cell_type": "code",
   "execution_count": 6,
   "metadata": {},
   "outputs": [
    {
     "ename": "NameError",
     "evalue": "name 'train_features' is not defined",
     "output_type": "error",
     "traceback": [
      "\u001b[0;31m---------------------------------------------------------------------------\u001b[0m",
      "\u001b[0;31mNameError\u001b[0m                                 Traceback (most recent call last)",
      "Cell \u001b[0;32mIn[6], line 8\u001b[0m\n\u001b[1;32m      5\u001b[0m \u001b[38;5;66;03m#KernelPCA implementation from scikit-learn, with the kernel parameter set to “rbf” for a gaussian kernel and “precomputed” for a quantum kernel\u001b[39;00m\n\u001b[1;32m      7\u001b[0m kernel_pca_rbf \u001b[38;5;241m=\u001b[39m KernelPCA(n_components\u001b[38;5;241m=\u001b[39m\u001b[38;5;241m2\u001b[39m, kernel\u001b[38;5;241m=\u001b[39m\u001b[38;5;124m\"\u001b[39m\u001b[38;5;124mrbf\u001b[39m\u001b[38;5;124m\"\u001b[39m)\n\u001b[0;32m----> 8\u001b[0m kernel_pca_rbf\u001b[38;5;241m.\u001b[39mfit(\u001b[43mtrain_features\u001b[49m)\n\u001b[1;32m      9\u001b[0m train_features_rbf \u001b[38;5;241m=\u001b[39m kernel_pca_rbf\u001b[38;5;241m.\u001b[39mtransform(train_features)\n\u001b[1;32m     10\u001b[0m test_features_rbf \u001b[38;5;241m=\u001b[39m kernel_pca_rbf\u001b[38;5;241m.\u001b[39mtransform(test_features)\n",
      "\u001b[0;31mNameError\u001b[0m: name 'train_features' is not defined"
     ]
    }
   ],
   "source": [
    "#import kernel PCA from sklearn \n",
    "from sklearn.decomposition import KernelPCA\n",
    "\n",
    "\n",
    "#KernelPCA implementation from scikit-learn, with the kernel parameter set to “rbf” for a gaussian kernel and “precomputed” for a quantum kernel\n",
    "\n",
    "kernel_pca_rbf = KernelPCA(n_components=2, kernel=\"rbf\")\n",
    "kernel_pca_rbf.fit(train_features)\n",
    "train_features_rbf = kernel_pca_rbf.transform(train_features)\n",
    "test_features_rbf = kernel_pca_rbf.transform(test_features)\n",
    "\n",
    "kernel_pca_q = KernelPCA(n_components=2, kernel=\"precomputed\")\n",
    "train_features_q = kernel_pca_q.fit_transform(matrix_train)\n",
    "test_features_q = kernel_pca_q.transform(matrix_test)"
   ]
  },
  {
   "cell_type": "code",
   "execution_count": null,
   "metadata": {},
   "outputs": [],
   "source": []
  },
  {
   "cell_type": "code",
   "execution_count": null,
   "metadata": {},
   "outputs": [],
   "source": [
    "#train and score a model\n",
    "from sklearn.linear_model import LogisticRegression\n",
    "\n",
    "logistic_regression = LogisticRegression()\n",
    "logistic_regression.fit(train_features_q, train_labels)\n",
    "\n",
    "logistic_score = logistic_regression.score(test_features_q, test_labels)\n",
    "print(f\"Logistic regression score: {logistic_score}\")"
   ]
  },
  {
   "cell_type": "code",
   "execution_count": 7,
   "metadata": {},
   "outputs": [
    {
     "ename": "NameError",
     "evalue": "name 'plt' is not defined",
     "output_type": "error",
     "traceback": [
      "\u001b[0;31m---------------------------------------------------------------------------\u001b[0m",
      "\u001b[0;31mNameError\u001b[0m                                 Traceback (most recent call last)",
      "Cell \u001b[0;32mIn[7], line 3\u001b[0m\n\u001b[1;32m      1\u001b[0m \u001b[38;5;66;03m#plot the transformed dataset we get with the quantum kernel\u001b[39;00m\n\u001b[1;32m      2\u001b[0m \u001b[38;5;66;03m#plot we also add model results. Then, we plot the transformed dataset we get with the gaussian kernel.\u001b[39;00m\n\u001b[0;32m----> 3\u001b[0m fig, (q_ax, rbf_ax) \u001b[38;5;241m=\u001b[39m \u001b[43mplt\u001b[49m\u001b[38;5;241m.\u001b[39msubplots(\u001b[38;5;241m1\u001b[39m, \u001b[38;5;241m2\u001b[39m, figsize\u001b[38;5;241m=\u001b[39m(\u001b[38;5;241m10\u001b[39m, \u001b[38;5;241m5\u001b[39m))\n\u001b[1;32m      6\u001b[0m plot_features(q_ax, train_features_q, train_labels, \u001b[38;5;241m0\u001b[39m, \u001b[38;5;124m\"\u001b[39m\u001b[38;5;124ms\u001b[39m\u001b[38;5;124m\"\u001b[39m, \u001b[38;5;124m\"\u001b[39m\u001b[38;5;124mw\u001b[39m\u001b[38;5;124m\"\u001b[39m, \u001b[38;5;124m\"\u001b[39m\u001b[38;5;124mb\u001b[39m\u001b[38;5;124m\"\u001b[39m, \u001b[38;5;124m\"\u001b[39m\u001b[38;5;124mA train\u001b[39m\u001b[38;5;124m\"\u001b[39m)\n\u001b[1;32m      7\u001b[0m plot_features(q_ax, train_features_q, train_labels, \u001b[38;5;241m1\u001b[39m, \u001b[38;5;124m\"\u001b[39m\u001b[38;5;124mo\u001b[39m\u001b[38;5;124m\"\u001b[39m, \u001b[38;5;124m\"\u001b[39m\u001b[38;5;124mw\u001b[39m\u001b[38;5;124m\"\u001b[39m, \u001b[38;5;124m\"\u001b[39m\u001b[38;5;124mr\u001b[39m\u001b[38;5;124m\"\u001b[39m, \u001b[38;5;124m\"\u001b[39m\u001b[38;5;124mB train\u001b[39m\u001b[38;5;124m\"\u001b[39m)\n",
      "\u001b[0;31mNameError\u001b[0m: name 'plt' is not defined"
     ]
    }
   ],
   "source": [
    "#plot the transformed dataset we get with the quantum kernel\n",
    "#plot we also add model results. Then, we plot the transformed dataset we get with the gaussian kernel.\n",
    "fig, (q_ax, rbf_ax) = plt.subplots(1, 2, figsize=(10, 5))\n",
    "\n",
    "\n",
    "plot_features(q_ax, train_features_q, train_labels, 0, \"s\", \"w\", \"b\", \"A train\")\n",
    "plot_features(q_ax, train_features_q, train_labels, 1, \"o\", \"w\", \"r\", \"B train\")\n",
    "\n",
    "plot_features(q_ax, test_features_q, test_labels, 0, \"s\", \"b\", \"w\", \"A test\")\n",
    "plot_features(q_ax, test_features_q, test_labels, 1, \"o\", \"r\", \"w\", \"A test\")\n",
    "\n",
    "q_ax.set_ylabel(\"Principal component #1\")\n",
    "q_ax.set_xlabel(\"Principal component #0\")\n",
    "q_ax.set_title(\"Projection of training and test data\\n using KPCA with Quantum Kernel\")\n",
    "\n",
    "# Plotting the linear separation\n",
    "h = 0.01  # step size in the mesh\n",
    "\n",
    "# create a mesh to plot in\n",
    "x_min, x_max = train_features_q[:, 0].min() - 1, train_features_q[:, 0].max() + 1\n",
    "y_min, y_max = train_features_q[:, 1].min() - 1, train_features_q[:, 1].max() + 1\n",
    "xx, yy = np.meshgrid(np.arange(x_min, x_max, h), np.arange(y_min, y_max, h))\n",
    "\n",
    "predictions = logistic_regression.predict(np.c_[xx.ravel(), yy.ravel()])\n",
    "\n",
    "# Put the result into a color plot\n",
    "predictions = predictions.reshape(xx.shape)\n",
    "q_ax.contourf(xx, yy, predictions, cmap=plt.cm.RdBu, alpha=0.2)\n",
    "\n",
    "plot_features(rbf_ax, train_features_rbf, train_labels, 0, \"s\", \"w\", \"b\", \"A train\")\n",
    "plot_features(rbf_ax, train_features_rbf, train_labels, 1, \"o\", \"w\", \"r\", \"B train\")\n",
    "plot_features(rbf_ax, test_features_rbf, test_labels, 0, \"s\", \"b\", \"w\", \"A test\")\n",
    "plot_features(rbf_ax, test_features_rbf, test_labels, 1, \"o\", \"r\", \"w\", \"A test\")\n",
    "\n",
    "rbf_ax.set_ylabel(\"Principal component #1\")\n",
    "rbf_ax.set_xlabel(\"Principal component #0\")\n",
    "rbf_ax.set_title(\"Projection of training data\\n using KernelPCA\")\n",
    "plt.show()"
   ]
  },
  {
   "cell_type": "code",
   "execution_count": null,
   "metadata": {},
   "outputs": [],
   "source": []
  },
  {
   "cell_type": "code",
   "execution_count": null,
   "metadata": {},
   "outputs": [],
   "source": []
  },
  {
   "cell_type": "code",
   "execution_count": null,
   "metadata": {
    "notebookRunGroups": {
     "groupValue": "1"
    }
   },
   "outputs": [],
   "source": []
  },
  {
   "cell_type": "code",
   "execution_count": null,
   "metadata": {},
   "outputs": [],
   "source": []
  },
  {
   "cell_type": "code",
   "execution_count": null,
   "metadata": {},
   "outputs": [],
   "source": []
  },
  {
   "cell_type": "markdown",
   "metadata": {},
   "source": []
  },
  {
   "cell_type": "markdown",
   "metadata": {},
   "source": []
  }
 ],
 "metadata": {
  "kernelspec": {
   "display_name": "myenv",
   "language": "python",
   "name": "python3"
  },
  "language_info": {
   "codemirror_mode": {
    "name": "ipython",
    "version": 3
   },
   "file_extension": ".py",
   "mimetype": "text/x-python",
   "name": "python",
   "nbconvert_exporter": "python",
   "pygments_lexer": "ipython3",
   "version": "3.10.13"
  }
 },
 "nbformat": 4,
 "nbformat_minor": 2
}
