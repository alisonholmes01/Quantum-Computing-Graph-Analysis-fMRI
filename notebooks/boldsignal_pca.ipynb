{
 "cells": [
  {
   "cell_type": "code",
   "execution_count": null,
   "metadata": {},
   "outputs": [],
   "source": [
    "import nibabel as nib\n",
    "import numpy as np\n",
    "import matplotlib.pyplot as plt\n",
    "from sklearn.decomposition import PCA\n",
    "from sklearn.preprocessing import StandardScaler\n",
    "\n",
    "# Load fMRI NIfTI file\n",
    "fmri_file = \"sub-CSI1_task-5000scenes_bold.nii.gz\"  # Change this to your file path\n",
    "img = nib.load(fmri_file)\n",
    "\n",
    "# Extract data and reshape\n",
    "fmri_data = img.get_fdata()  # Shape: (X, Y, Z, T)\n",
    "X, Y, Z, T = fmri_data.shape\n",
    "fmri_data_reshaped = fmri_data.reshape(-1, T)  # Reshape to (voxels, time-points)\n",
    "\n",
    "# Standardize (z-score each voxel's time-series)\n",
    "scaler = StandardScaler()\n",
    "fmri_data_scaled = scaler.fit_transform(fmri_data_reshaped.T).T  # Z-score across time\n",
    "\n",
    "# Apply PCA\n",
    "n_components = 10  # Number of PCs to retain\n",
    "pca = PCA(n_components=n_components)\n",
    "fmri_pca = pca.fit_transform(fmri_data_scaled.T)  # Shape: (T, n_components)\n",
    "\n",
    "# Plot variance explained\n",
    "plt.figure(figsize=(8, 5))\n",
    "plt.plot(np.cumsum(pca.explained_variance_ratio_), marker='o')\n",
    "plt.xlabel(\"Number of Components\")\n",
    "plt.ylabel(\"Cumulative Explained Variance\")\n",
    "plt.title(\"PCA Explained Variance\")\n",
    "plt.show()\n",
    "\n",
    "# Visualize first principal component\n",
    "plt.figure(figsize=(8, 5))\n",
    "plt.plot(fmri_pca[:, 0])\n",
    "plt.xlabel(\"Time\")\n",
    "plt.ylabel(\"Principal Component 1\")\n",
    "plt.title(\"First Principal Component of fMRI Data\")\n",
    "plt.show()"
   ]
  }
 ],
 "metadata": {
  "kernelspec": {
   "display_name": "base",
   "language": "python",
   "name": "python3"
  },
  "language_info": {
   "name": "python",
   "version": "3.12.4"
  }
 },
 "nbformat": 4,
 "nbformat_minor": 2
}
